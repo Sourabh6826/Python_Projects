{
 "cells": [
  {
   "cell_type": "code",
   "execution_count": 3,
   "id": "96769e02-d705-4d68-8b75-2dc3db755a84",
   "metadata": {},
   "outputs": [],
   "source": [
    "import os,shutil # python libraries that help with directories"
   ]
  },
  {
   "cell_type": "code",
   "execution_count": 61,
   "id": "f8b826ed-a84a-44be-b973-51bbf435e0d2",
   "metadata": {},
   "outputs": [],
   "source": [
    "path = r\"C:\\\\Users\\\\c.s.markam\\\\Desktop\\\\Data analytics Project\\\\\" # using double back slash as a single backslash is taken\n",
    "                                                                   # as part of escape sequence and thus gives error"
   ]
  },
  {
   "cell_type": "code",
   "execution_count": 65,
   "id": "3eb0261f-1017-47ec-8b9a-d3fe90b57e37",
   "metadata": {},
   "outputs": [],
   "source": [
    "file_name = os.listdir(path) # finding all the files in our selected folder"
   ]
  },
  {
   "cell_type": "code",
   "execution_count": 67,
   "id": "be90a16c-e687-4574-af71-e1f6520b4c1c",
   "metadata": {},
   "outputs": [],
   "source": [
    "folder_names = ['.pdf','.pptx','.csv']\n",
    "for loop in range(3) :\n",
    "    if not os.path.exists(path + folder_names[loop]) :  # checking if folder exist and creating folder if it doesn't\n",
    "        os.makedirs(path + folder_names[loop])                                   "
   ]
  },
  {
   "cell_type": "code",
   "execution_count": 69,
   "id": "37efe4aa-c90c-4e3e-bf3a-42b08a39e5fa",
   "metadata": {},
   "outputs": [],
   "source": [
    "for file in file_name :\n",
    "    for loop in range(3) :\n",
    "        if folder_names[loop] in file and not os.path.exists(path + folder_names[loop] + '\\\\' + file ): # moving files into their respective folders\n",
    "            shutil.move(path + file, path + folder_names[loop] + '\\\\' + file )"
   ]
  },
  {
   "cell_type": "code",
   "execution_count": null,
   "id": "d85dbdeb-68a3-4d99-aad8-dd7c8bdd23e3",
   "metadata": {},
   "outputs": [],
   "source": []
  },
  {
   "cell_type": "code",
   "execution_count": null,
   "id": "ef0908b0-f963-47ce-90c0-4358693db6ac",
   "metadata": {},
   "outputs": [],
   "source": []
  },
  {
   "cell_type": "code",
   "execution_count": null,
   "id": "81e7c825-396d-498d-8dea-47f17126f13e",
   "metadata": {},
   "outputs": [],
   "source": []
  },
  {
   "cell_type": "code",
   "execution_count": null,
   "id": "957dc1fa-a2af-48d7-9f92-e1f64304d4af",
   "metadata": {},
   "outputs": [],
   "source": []
  },
  {
   "cell_type": "code",
   "execution_count": null,
   "id": "8cd508ab-712e-46c7-9f1e-00782360d12f",
   "metadata": {},
   "outputs": [],
   "source": []
  },
  {
   "cell_type": "code",
   "execution_count": null,
   "id": "50f2dc87-9b1c-4730-95bd-616093a51bcb",
   "metadata": {},
   "outputs": [],
   "source": []
  },
  {
   "cell_type": "code",
   "execution_count": null,
   "id": "84e46611-6013-479f-9655-1c08852e631a",
   "metadata": {},
   "outputs": [],
   "source": []
  },
  {
   "cell_type": "code",
   "execution_count": null,
   "id": "f464504a-d2ae-4d08-9f8c-e8340fb1711d",
   "metadata": {},
   "outputs": [],
   "source": []
  },
  {
   "cell_type": "code",
   "execution_count": null,
   "id": "e0b5f3c2-29fa-4b35-a230-a6d0542dae1e",
   "metadata": {},
   "outputs": [],
   "source": []
  },
  {
   "cell_type": "code",
   "execution_count": null,
   "id": "e36715e5-d473-4315-87e2-061468c02d8a",
   "metadata": {},
   "outputs": [],
   "source": []
  },
  {
   "cell_type": "code",
   "execution_count": null,
   "id": "c67973e3-b8e6-4043-8d40-bb82e04a1e19",
   "metadata": {},
   "outputs": [],
   "source": []
  }
 ],
 "metadata": {
  "kernelspec": {
   "display_name": "Python 3 (ipykernel)",
   "language": "python",
   "name": "python3"
  },
  "language_info": {
   "codemirror_mode": {
    "name": "ipython",
    "version": 3
   },
   "file_extension": ".py",
   "mimetype": "text/x-python",
   "name": "python",
   "nbconvert_exporter": "python",
   "pygments_lexer": "ipython3",
   "version": "3.12.4"
  }
 },
 "nbformat": 4,
 "nbformat_minor": 5
}
