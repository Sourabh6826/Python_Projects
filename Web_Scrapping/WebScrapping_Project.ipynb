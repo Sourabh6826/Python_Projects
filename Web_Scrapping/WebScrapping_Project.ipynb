{
 "cells": [
  {
   "cell_type": "code",
   "execution_count": 23,
   "id": "3f5004cf-3254-4c9d-9a48-5193b211c87d",
   "metadata": {},
   "outputs": [],
   "source": [
    "from bs4 import BeautifulSoup\n",
    "import requests\n",
    "import pandas as pd \n"
   ]
  },
  {
   "cell_type": "code",
   "execution_count": 24,
   "id": "c83edbb8-a3eb-441e-88ec-ba572f2fa714",
   "metadata": {},
   "outputs": [],
   "source": [
    "url = 'https://en.wikipedia.org/wiki/List_of_largest_companies_in_India'  # site url from where we need to extract data\n",
    "page = requests.get(url) # taking snap of url\n",
    "snap = BeautifulSoup(page.text, 'html') # parsing"
   ]
  },
  {
   "cell_type": "code",
   "execution_count": 25,
   "id": "98424ec4-bc4b-4326-811f-240edb3e9c8e",
   "metadata": {},
   "outputs": [],
   "source": [
    "table = snap.find('table') # finding the needed table data from html snap and putting it into the variable"
   ]
  },
  {
   "cell_type": "code",
   "execution_count": 26,
   "id": "d8a31130-2e04-4d1b-96bb-46b1362fde9c",
   "metadata": {},
   "outputs": [],
   "source": [
    "titles = table.find_all('th') # finding just the column names"
   ]
  },
  {
   "cell_type": "code",
   "execution_count": 27,
   "id": "c40d187b-f362-405e-a5bf-defe28a5c71a",
   "metadata": {},
   "outputs": [],
   "source": [
    "clean_titles = [loop.text.strip() for loop in titles] # cleaning extra space,\\n etc"
   ]
  },
  {
   "cell_type": "code",
   "execution_count": 28,
   "id": "dea4f6be-8a33-4e37-b134-7d24f900d0b2",
   "metadata": {},
   "outputs": [],
   "source": [
    "df = pd.DataFrame( columns = clean_titles) # putting cleaned column names in panda dataframe"
   ]
  },
  {
   "cell_type": "code",
   "execution_count": 29,
   "id": "e6fb5101-3852-42d8-8201-c0017048cf65",
   "metadata": {},
   "outputs": [],
   "source": [
    "row = table.find_all('tr') # finding row data \n",
    "a = 0 # using this variable to store values at proper location in dataframework\n",
    "for loop0 in row[1:]  : # using loop we are isolating indivisual row data and then putting it into panda framwork\n",
    "    data = loop0.find_all('td')\n",
    "    clean_data = [loop1.text.strip() for loop1 in data]\n",
    "    df.loc[a] = clean_data\n",
    "    a = a + 1 \n"
   ]
  },
  {
   "cell_type": "code",
   "execution_count": 30,
   "id": "67486bda-66f5-4cdc-96e5-67fb12103169",
   "metadata": {},
   "outputs": [],
   "source": [
    "df.to_csv(r'C:\\Users\\c.s.markam\\Desktop\\Python_WebScraping_Project\\Largest_Companies_India.csv', index = False)"
   ]
  },
  {
   "cell_type": "code",
   "execution_count": null,
   "id": "9ca3cb33-e3a5-4f72-b648-fa27b282eb60",
   "metadata": {},
   "outputs": [],
   "source": []
  },
  {
   "cell_type": "code",
   "execution_count": null,
   "id": "87cd70b6-158b-41d1-86e3-3c5b8b200fcb",
   "metadata": {},
   "outputs": [],
   "source": []
  },
  {
   "cell_type": "code",
   "execution_count": null,
   "id": "c043e0ae-b432-4178-bd9c-e0a6766c30f9",
   "metadata": {},
   "outputs": [],
   "source": []
  },
  {
   "cell_type": "code",
   "execution_count": null,
   "id": "cda83865-49be-45b9-895e-7d7bf5d6d372",
   "metadata": {},
   "outputs": [],
   "source": []
  },
  {
   "cell_type": "code",
   "execution_count": null,
   "id": "92a838ad-2445-4c9c-bd3d-6e29f389a9e1",
   "metadata": {},
   "outputs": [],
   "source": []
  },
  {
   "cell_type": "code",
   "execution_count": null,
   "id": "ccbe2841-f664-44cc-a7af-f8f7de25a08d",
   "metadata": {},
   "outputs": [],
   "source": []
  }
 ],
 "metadata": {
  "kernelspec": {
   "display_name": "Python 3 (ipykernel)",
   "language": "python",
   "name": "python3"
  },
  "language_info": {
   "codemirror_mode": {
    "name": "ipython",
    "version": 3
   },
   "file_extension": ".py",
   "mimetype": "text/x-python",
   "name": "python",
   "nbconvert_exporter": "python",
   "pygments_lexer": "ipython3",
   "version": "3.12.4"
  }
 },
 "nbformat": 4,
 "nbformat_minor": 5
}
